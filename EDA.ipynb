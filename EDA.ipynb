{
 "cells": [
  {
   "cell_type": "code",
   "execution_count": 1,
   "id": "69c1f923-eae5-4151-90be-4afb13682576",
   "metadata": {},
   "outputs": [],
   "source": [
    "import numpy as np\n",
    "import pandas as pd\n",
    "import seaborn as sns\n",
    "import matplotlib.pyplot as plt"
   ]
  },
  {
   "cell_type": "code",
   "execution_count": 2,
   "id": "710b356f-4ffd-4ec2-a6b3-8b3273f11434",
   "metadata": {},
   "outputs": [
    {
     "data": {
      "text/plain": [
       "(404290, 6)"
      ]
     },
     "execution_count": 2,
     "metadata": {},
     "output_type": "execute_result"
    }
   ],
   "source": [
    "df = pd.read_csv('train.csv')\n",
    "df.shape"
   ]
  },
  {
   "cell_type": "markdown",
   "id": "45c23185-9f29-409b-9240-fa6b49cfe7e0",
   "metadata": {},
   "source": [
    "*quite large dataset to handle*"
   ]
  },
  {
   "cell_type": "code",
   "execution_count": 3,
   "id": "99cf5afd-dcb9-47e6-a071-3dd9c45cf499",
   "metadata": {},
   "outputs": [
    {
     "data": {
      "text/html": [
       "<div>\n",
       "<style scoped>\n",
       "    .dataframe tbody tr th:only-of-type {\n",
       "        vertical-align: middle;\n",
       "    }\n",
       "\n",
       "    .dataframe tbody tr th {\n",
       "        vertical-align: top;\n",
       "    }\n",
       "\n",
       "    .dataframe thead th {\n",
       "        text-align: right;\n",
       "    }\n",
       "</style>\n",
       "<table border=\"1\" class=\"dataframe\">\n",
       "  <thead>\n",
       "    <tr style=\"text-align: right;\">\n",
       "      <th></th>\n",
       "      <th>id</th>\n",
       "      <th>qid1</th>\n",
       "      <th>qid2</th>\n",
       "      <th>question1</th>\n",
       "      <th>question2</th>\n",
       "      <th>is_duplicate</th>\n",
       "    </tr>\n",
       "  </thead>\n",
       "  <tbody>\n",
       "    <tr>\n",
       "      <th>0</th>\n",
       "      <td>0</td>\n",
       "      <td>1</td>\n",
       "      <td>2</td>\n",
       "      <td>What is the step by step guide to invest in sh...</td>\n",
       "      <td>What is the step by step guide to invest in sh...</td>\n",
       "      <td>0</td>\n",
       "    </tr>\n",
       "    <tr>\n",
       "      <th>1</th>\n",
       "      <td>1</td>\n",
       "      <td>3</td>\n",
       "      <td>4</td>\n",
       "      <td>What is the story of Kohinoor (Koh-i-Noor) Dia...</td>\n",
       "      <td>What would happen if the Indian government sto...</td>\n",
       "      <td>0</td>\n",
       "    </tr>\n",
       "    <tr>\n",
       "      <th>2</th>\n",
       "      <td>2</td>\n",
       "      <td>5</td>\n",
       "      <td>6</td>\n",
       "      <td>How can I increase the speed of my internet co...</td>\n",
       "      <td>How can Internet speed be increased by hacking...</td>\n",
       "      <td>0</td>\n",
       "    </tr>\n",
       "    <tr>\n",
       "      <th>3</th>\n",
       "      <td>3</td>\n",
       "      <td>7</td>\n",
       "      <td>8</td>\n",
       "      <td>Why am I mentally very lonely? How can I solve...</td>\n",
       "      <td>Find the remainder when [math]23^{24}[/math] i...</td>\n",
       "      <td>0</td>\n",
       "    </tr>\n",
       "    <tr>\n",
       "      <th>4</th>\n",
       "      <td>4</td>\n",
       "      <td>9</td>\n",
       "      <td>10</td>\n",
       "      <td>Which one dissolve in water quikly sugar, salt...</td>\n",
       "      <td>Which fish would survive in salt water?</td>\n",
       "      <td>0</td>\n",
       "    </tr>\n",
       "  </tbody>\n",
       "</table>\n",
       "</div>"
      ],
      "text/plain": [
       "   id  qid1  qid2                                          question1  \\\n",
       "0   0     1     2  What is the step by step guide to invest in sh...   \n",
       "1   1     3     4  What is the story of Kohinoor (Koh-i-Noor) Dia...   \n",
       "2   2     5     6  How can I increase the speed of my internet co...   \n",
       "3   3     7     8  Why am I mentally very lonely? How can I solve...   \n",
       "4   4     9    10  Which one dissolve in water quikly sugar, salt...   \n",
       "\n",
       "                                           question2  is_duplicate  \n",
       "0  What is the step by step guide to invest in sh...             0  \n",
       "1  What would happen if the Indian government sto...             0  \n",
       "2  How can Internet speed be increased by hacking...             0  \n",
       "3  Find the remainder when [math]23^{24}[/math] i...             0  \n",
       "4            Which fish would survive in salt water?             0  "
      ]
     },
     "execution_count": 3,
     "metadata": {},
     "output_type": "execute_result"
    }
   ],
   "source": [
    "df.head()"
   ]
  },
  {
   "cell_type": "markdown",
   "id": "8c4df129-da77-472e-b16f-4971e0b0c9a8",
   "metadata": {},
   "source": [
    "### EDA"
   ]
  },
  {
   "cell_type": "code",
   "execution_count": 4,
   "id": "96219b7e-5a11-40f8-b009-b3b5745db583",
   "metadata": {},
   "outputs": [
    {
     "name": "stdout",
     "output_type": "stream",
     "text": [
      "<class 'pandas.core.frame.DataFrame'>\n",
      "RangeIndex: 404290 entries, 0 to 404289\n",
      "Data columns (total 6 columns):\n",
      " #   Column        Non-Null Count   Dtype \n",
      "---  ------        --------------   ----- \n",
      " 0   id            404290 non-null  int64 \n",
      " 1   qid1          404290 non-null  int64 \n",
      " 2   qid2          404290 non-null  int64 \n",
      " 3   question1     404289 non-null  object\n",
      " 4   question2     404288 non-null  object\n",
      " 5   is_duplicate  404290 non-null  int64 \n",
      "dtypes: int64(4), object(2)\n",
      "memory usage: 18.5+ MB\n"
     ]
    }
   ],
   "source": [
    "df.info()"
   ]
  },
  {
   "cell_type": "code",
   "execution_count": 5,
   "id": "cb37d7ea-8c81-47e7-94ed-2c348a9caf92",
   "metadata": {},
   "outputs": [
    {
     "data": {
      "text/html": [
       "<div>\n",
       "<style scoped>\n",
       "    .dataframe tbody tr th:only-of-type {\n",
       "        vertical-align: middle;\n",
       "    }\n",
       "\n",
       "    .dataframe tbody tr th {\n",
       "        vertical-align: top;\n",
       "    }\n",
       "\n",
       "    .dataframe thead th {\n",
       "        text-align: right;\n",
       "    }\n",
       "</style>\n",
       "<table border=\"1\" class=\"dataframe\">\n",
       "  <thead>\n",
       "    <tr style=\"text-align: right;\">\n",
       "      <th></th>\n",
       "      <th>id</th>\n",
       "      <th>qid1</th>\n",
       "      <th>qid2</th>\n",
       "      <th>question1</th>\n",
       "      <th>question2</th>\n",
       "      <th>is_duplicate</th>\n",
       "    </tr>\n",
       "  </thead>\n",
       "  <tbody>\n",
       "    <tr>\n",
       "      <th>68468</th>\n",
       "      <td>68468</td>\n",
       "      <td>118317</td>\n",
       "      <td>118318</td>\n",
       "      <td>Which is the most popular database language?</td>\n",
       "      <td>Where can I get free Email database for U.S?</td>\n",
       "      <td>0</td>\n",
       "    </tr>\n",
       "    <tr>\n",
       "      <th>12124</th>\n",
       "      <td>12124</td>\n",
       "      <td>6679</td>\n",
       "      <td>16932</td>\n",
       "      <td>How do I get meth out of my system in 3 days?</td>\n",
       "      <td>How can I flush meth out of my blood?</td>\n",
       "      <td>1</td>\n",
       "    </tr>\n",
       "    <tr>\n",
       "      <th>375003</th>\n",
       "      <td>375003</td>\n",
       "      <td>478221</td>\n",
       "      <td>505987</td>\n",
       "      <td>Which is a suitable inpatient drug and alcohol...</td>\n",
       "      <td>Which is a suitable inpatient drug and alcohol...</td>\n",
       "      <td>0</td>\n",
       "    </tr>\n",
       "    <tr>\n",
       "      <th>207793</th>\n",
       "      <td>207793</td>\n",
       "      <td>65234</td>\n",
       "      <td>162318</td>\n",
       "      <td>How do you potty train large puppies?</td>\n",
       "      <td>What's the easiest training system to potty tr...</td>\n",
       "      <td>1</td>\n",
       "    </tr>\n",
       "    <tr>\n",
       "      <th>327478</th>\n",
       "      <td>327478</td>\n",
       "      <td>453904</td>\n",
       "      <td>453905</td>\n",
       "      <td>If a car was falling from a bridge with a pers...</td>\n",
       "      <td>If I jump at the right time in a falling elava...</td>\n",
       "      <td>0</td>\n",
       "    </tr>\n",
       "    <tr>\n",
       "      <th>312653</th>\n",
       "      <td>312653</td>\n",
       "      <td>437129</td>\n",
       "      <td>75650</td>\n",
       "      <td>What are the best digital marketing strategies?</td>\n",
       "      <td>What are some of the best digital marketing ca...</td>\n",
       "      <td>0</td>\n",
       "    </tr>\n",
       "    <tr>\n",
       "      <th>256112</th>\n",
       "      <td>256112</td>\n",
       "      <td>262205</td>\n",
       "      <td>267741</td>\n",
       "      <td>What is the difference between a savings accou...</td>\n",
       "      <td>What is the difference between current account...</td>\n",
       "      <td>1</td>\n",
       "    </tr>\n",
       "    <tr>\n",
       "      <th>5251</th>\n",
       "      <td>5251</td>\n",
       "      <td>10339</td>\n",
       "      <td>10340</td>\n",
       "      <td>Which protein supplement is best for gym to ga...</td>\n",
       "      <td>I'm in love with an christian lebanese girl th...</td>\n",
       "      <td>0</td>\n",
       "    </tr>\n",
       "    <tr>\n",
       "      <th>357827</th>\n",
       "      <td>357827</td>\n",
       "      <td>487232</td>\n",
       "      <td>487233</td>\n",
       "      <td>Why do squirrels eat so fast?</td>\n",
       "      <td>How do squirrels chew so fast?</td>\n",
       "      <td>0</td>\n",
       "    </tr>\n",
       "    <tr>\n",
       "      <th>125490</th>\n",
       "      <td>125490</td>\n",
       "      <td>144319</td>\n",
       "      <td>202437</td>\n",
       "      <td>In the film La La Land, does Ryan Gosling actu...</td>\n",
       "      <td>What is the meaning of the song \"City of Stars...</td>\n",
       "      <td>0</td>\n",
       "    </tr>\n",
       "  </tbody>\n",
       "</table>\n",
       "</div>"
      ],
      "text/plain": [
       "            id    qid1    qid2  \\\n",
       "68468    68468  118317  118318   \n",
       "12124    12124    6679   16932   \n",
       "375003  375003  478221  505987   \n",
       "207793  207793   65234  162318   \n",
       "327478  327478  453904  453905   \n",
       "312653  312653  437129   75650   \n",
       "256112  256112  262205  267741   \n",
       "5251      5251   10339   10340   \n",
       "357827  357827  487232  487233   \n",
       "125490  125490  144319  202437   \n",
       "\n",
       "                                                question1  \\\n",
       "68468        Which is the most popular database language?   \n",
       "12124       How do I get meth out of my system in 3 days?   \n",
       "375003  Which is a suitable inpatient drug and alcohol...   \n",
       "207793              How do you potty train large puppies?   \n",
       "327478  If a car was falling from a bridge with a pers...   \n",
       "312653    What are the best digital marketing strategies?   \n",
       "256112  What is the difference between a savings accou...   \n",
       "5251    Which protein supplement is best for gym to ga...   \n",
       "357827                      Why do squirrels eat so fast?   \n",
       "125490  In the film La La Land, does Ryan Gosling actu...   \n",
       "\n",
       "                                                question2  is_duplicate  \n",
       "68468        Where can I get free Email database for U.S?             0  \n",
       "12124               How can I flush meth out of my blood?             1  \n",
       "375003  Which is a suitable inpatient drug and alcohol...             0  \n",
       "207793  What's the easiest training system to potty tr...             1  \n",
       "327478  If I jump at the right time in a falling elava...             0  \n",
       "312653  What are some of the best digital marketing ca...             0  \n",
       "256112  What is the difference between current account...             1  \n",
       "5251    I'm in love with an christian lebanese girl th...             0  \n",
       "357827                     How do squirrels chew so fast?             0  \n",
       "125490  What is the meaning of the song \"City of Stars...             0  "
      ]
     },
     "execution_count": 5,
     "metadata": {},
     "output_type": "execute_result"
    }
   ],
   "source": [
    "df.sample(10)"
   ]
  },
  {
   "cell_type": "code",
   "execution_count": 7,
   "id": "8c1cb27d-554c-416d-b102-6c629539a09a",
   "metadata": {},
   "outputs": [
    {
     "data": {
      "text/plain": [
       "id              0\n",
       "qid1            0\n",
       "qid2            0\n",
       "question1       1\n",
       "question2       2\n",
       "is_duplicate    0\n",
       "dtype: int64"
      ]
     },
     "execution_count": 7,
     "metadata": {},
     "output_type": "execute_result"
    }
   ],
   "source": [
    "# missing values\n",
    "df.isnull().sum()"
   ]
  },
  {
   "cell_type": "code",
   "execution_count": 9,
   "id": "f49e8a0a-eb6e-4eed-86f5-79faf00e9a85",
   "metadata": {},
   "outputs": [
    {
     "data": {
      "text/plain": [
       "0"
      ]
     },
     "execution_count": 9,
     "metadata": {},
     "output_type": "execute_result"
    }
   ],
   "source": [
    "# duplicate rows\n",
    "df.duplicated().sum()"
   ]
  },
  {
   "cell_type": "markdown",
   "id": "a4c5cb6d-4232-4a10-a87e-e006c6b6bec4",
   "metadata": {},
   "source": [
    "no duplicates found"
   ]
  },
  {
   "cell_type": "code",
   "execution_count": 10,
   "id": "095df7d9-3c2f-4538-83fc-3e49ffbc7b30",
   "metadata": {},
   "outputs": [
    {
     "name": "stdout",
     "output_type": "stream",
     "text": [
      "is_duplicate\n",
      "0    255027\n",
      "1    149263\n",
      "Name: count, dtype: int64\n",
      "is_duplicate\n",
      "0    63.080215\n",
      "1    36.919785\n",
      "Name: count, dtype: float64\n"
     ]
    },
    {
     "data": {
      "text/plain": [
       "<Axes: xlabel='is_duplicate'>"
      ]
     },
     "execution_count": 10,
     "metadata": {},
     "output_type": "execute_result"
    },
    {
     "data": {
      "image/png": "[encoded data removed]",
      "text/plain": [
       "<Figure size 640x480 with 1 Axes>"
      ]
     },
     "metadata": {},
     "output_type": "display_data"
    }
   ],
   "source": [
    "# distribution of duplicate and non-duplicate questions\n",
    "\n",
    "print(df['is_duplicate'].value_counts())\n",
    "print((df['is_duplicate'].value_counts()/df['is_duplicate'].count()) * 100)\n",
    "\n",
    "df['is_duplicate'].value_counts().plot(kind='bar')"
   ]
  },
  {
   "cell_type": "markdown",
   "id": "e815b994-efc6-4ad8-a274-9cb412fe2364",
   "metadata": {},
   "source": [
    "majority is of no duplicates. **Imbalanced dataset biased towards no duplicates.**"
   ]
  },
  {
   "cell_type": "code",
   "execution_count": 17,
   "id": "b908ef2c-44bb-4b26-90d5-a674977c2f8a",
   "metadata": {},
   "outputs": [
    {
     "name": "stdout",
     "output_type": "stream",
     "text": [
      "number of unique questions:  537933\n",
      "number of repeated questions:  111780\n"
     ]
    },
    {
     "data": {
      "text/plain": [
       "'\\nx[x] - only consider those values which satisfies the given condition\\n'"
      ]
     },
     "execution_count": 17,
     "metadata": {},
     "output_type": "execute_result"
    }
   ],
   "source": [
    "# unique questions\n",
    "\n",
    "qids = pd.Series(df['qid1'].tolist() + df['qid2'].tolist())\n",
    "print(\"number of unique questions: \", np.unique(qids).shape[0])\n",
    "\n",
    "x = qids.value_counts() > 1\n",
    "print('number of repeated questions: ', x[x].shape[0])\n",
    "\n",
    "# \"\"\"\n",
    "# x[x] - only consider those values which satisfies the given condition\n",
    "# \"\"\""
   ]
  },
  {
   "cell_type": "code",
   "execution_count": 21,
   "id": "eedc7095-e808-402f-a52c-4cbb09e88992",
   "metadata": {},
   "outputs": [
    {
     "data": {
      "image/png": "[encoded data removed]",
      "text/plain": [
       "<Figure size 640x480 with 1 Axes>"
      ]
     },
     "metadata": {},
     "output_type": "display_data"
    }
   ],
   "source": [
    "# repeated questions histogram\n",
    "\n",
    "plt.hist(qids.value_counts().values, bins=160)\n",
    "plt.yscale('log')\n",
    "plt.xlabel('Number of repeatitions')\n",
    "plt.ylabel('Number of questions')\n",
    "plt.show()"
   ]
  },
  {
   "cell_type": "code",
   "execution_count": null,
   "id": "03937b14-d96f-424a-84cc-b05b364e448f",
   "metadata": {},
   "outputs": [],
   "source": []
  }
 ],
 "metadata": {
  "kernelspec": {
   "display_name": "Python 3 (ipykernel)",
   "language": "python",
   "name": "python3"
  },
  "language_info": {
   "codemirror_mode": {
    "name": "ipython",
    "version": 3
   },
   "file_extension": ".py",
   "mimetype": "text/x-python",
   "name": "python",
   "nbconvert_exporter": "python",
   "pygments_lexer": "ipython3",
   "version": "3.12.7"
  }
 },
 "nbformat": 4,
 "nbformat_minor": 5
}
